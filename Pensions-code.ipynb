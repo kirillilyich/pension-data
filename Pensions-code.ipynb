{
 "cells": [
  {
   "cell_type": "markdown",
   "metadata": {},
   "source": [
    "#  Набо функций, для работы с системой ЕМИСС\n",
    "\n",
    "###  Автор: Кирилл Казанцев"
   ]
  },
  {
   "cell_type": "code",
   "execution_count": 1,
   "metadata": {},
   "outputs": [],
   "source": [
    "from selenium import webdriver\n",
    "from time import sleep\n",
    "import ipywidgets as widgets\n",
    "import ipython_blocking\n",
    "ipython_blocking.load_ipython_extensions()"
   ]
  },
  {
   "cell_type": "markdown",
   "metadata": {},
   "source": [
    "## Ключевые функции"
   ]
  },
  {
   "cell_type": "code",
   "execution_count": 18,
   "metadata": {},
   "outputs": [],
   "source": [
    "'''\n",
    "to_panel_data - функция, которая преобразует данные на сайте ЕМИСС в панельный формат. Принимает аргументы: browser - webdriver \n",
    "объект. varible - если True (default значение), то функция преполагает, что переменная уже содержится в стобцах. Если нет, то надо \n",
    "указать часть названия переменной, чтобы передвинуть ее из строки в столбик\n",
    "\n",
    "choose_all_data - функция, которой проходит по всем фильтрам и выбирает все возможные категории переменных\n",
    "\n",
    "download_data -  скачивает файл\n",
    "\n",
    "find_all_filters - находит все актуальные фильтры на страницу\n",
    "'''\n",
    "\n",
    "def to_panel_data(browser, variable=True):\n",
    "    \n",
    "    from selenium.webdriver import ActionChains\n",
    "\n",
    "    browser.execute_script(\"arguments[0].click();\", browser.find_elements_by_xpath(\"//*[contains(text(), 'Настройки')]\")[0])\n",
    "    sleep(1)\n",
    "    \n",
    "    target_field = browser.find_element_by_xpath('//*[@id=\"agrid-settings-block\"]/div[4]/table/tbody/tr[2]/td[1]/div')\n",
    "    element = browser.find_elements_by_xpath(\"//*[contains(text(), 'Год')]\")\n",
    "    ActionChains(browser).drag_and_drop(element[0], target_field).perform() \n",
    "    sleep(1)\n",
    "    \n",
    "    element = browser.find_elements_by_xpath(\"//*[contains(text(), 'Период')]\")\n",
    "    ActionChains(browser).drag_and_drop(element[0], target_field).perform() \n",
    "    sleep(2)\n",
    "    \n",
    "    target_field = browser.find_element_by_xpath('//*[@id=\"agrid-settings-block\"]/div[4]/table/tbody/tr[1]/td[2]/div')\n",
    "    element = browser.find_elements_by_xpath(\"//*[contains(text(), 'Показатель')]\")\n",
    "    ActionChains(browser).drag_and_drop(element[0], target_field).perform() \n",
    "    sleep(1)\n",
    "    \n",
    "    if variable is not True:\n",
    "        \n",
    "        target_field = browser.find_element_by_xpath('//*[@id=\"agrid-settings-block\"]/div[4]/table/tbody/tr[1]/td[2]/div')\n",
    "        element = browser.find_elements_by_xpath(\"//*[contains(text(), '\" + variable+\"')]\")\n",
    "        ActionChains(browser).drag_and_drop(element[0], target_field).perform() \n",
    "    \n",
    "    browser.execute_script(\"arguments[0].click();\", browser.find_elements_by_xpath(\"//*[contains(text(), 'Обновить')]\")[0])\n",
    "    \n",
    "    \n",
    "def choose_all_data(browser):\n",
    "\n",
    "    filters = browser.find_elements_by_class_name(\"k-filter\")\n",
    "    for fltr in filters:\n",
    "        browser.execute_script(\"arguments[0].click();\", fltr)\n",
    "    \n",
    "    buttons = browser.find_elements_by_xpath(\"//*[contains(text(), 'Очистить')]\")\n",
    "    for button in buttons:\n",
    "        browser.execute_script(\"arguments[0].click();\", button)\n",
    "    \n",
    "    buttons = browser.find_elements_by_xpath(\"//*[contains(text(), 'Выбрать все')]\")\n",
    "    for button in buttons:\n",
    "        browser.execute_script(\"arguments[0].click();\", button)\n",
    "        \n",
    "def download_data(browser):\n",
    "    browser.execute_script(\"arguments[0].click();\", browser.find_element_by_id(\"download_excel_file\"))\n",
    "    \n",
    "def input_observe(ev):\n",
    "    value = ev['new']\n",
    "    if len(value) >= 1:\n",
    "        button.disabled = False\n",
    "        button.button_style = 'success'\n",
    "    else:\n",
    "        button.disabled = True\n",
    "        button.button_style = ''\n",
    "        \n",
    "        \n",
    "def find_all_filters(browser):\n",
    "    filters = browser.find_elements_by_class_name(\"k-filter\")\n",
    "    \n",
    "    for el in filters:\n",
    "        browser.execute_script(\"arguments[0].click();\", el)\n",
    "\n",
    "    item_list = browser.find_elements_by_class_name(\"k-other-filters\")\n",
    "    \n",
    "    browser.execute_script(\"arguments[0].click();\", browser.find_elements_by_xpath(\"//*[contains(text(), 'Фильтровать')]\")[0])\n",
    "    \n",
    "    return(len(item_list))"
   ]
  },
  {
   "cell_type": "markdown",
   "metadata": {},
   "source": [
    "## Пример использования"
   ]
  },
  {
   "cell_type": "code",
   "execution_count": 4,
   "metadata": {},
   "outputs": [],
   "source": [
    "# выбираем директорию, куда будем скачивать\n",
    "chromeOptions = webdriver.ChromeOptions()\n",
    "prefs = {\"download.default_directory\" : \".....\"}\n",
    "chromeOptions.add_experimental_option(\"prefs\",prefs)"
   ]
  },
  {
   "cell_type": "code",
   "execution_count": 20,
   "metadata": {},
   "outputs": [],
   "source": [
    "#  Запускам Google Chrome\n",
    "browser = webdriver.Chrome(chrome_options=chromeOptions)"
   ]
  },
  {
   "cell_type": "code",
   "execution_count": 21,
   "metadata": {},
   "outputs": [],
   "source": [
    "# Выбираем страницу с нужным показателем по ссылке\n",
    "\n",
    "browser.get(\"https://fedstat.ru/indicator/31455\")\n"
   ]
  },
  {
   "cell_type": "code",
   "execution_count": null,
   "metadata": {},
   "outputs": [],
   "source": [
    "# преобразуем показатель в панельный вид\n",
    "\n",
    "to_panel_data(browser, 'Вид начисленной')"
   ]
  },
  {
   "cell_type": "code",
   "execution_count": 27,
   "metadata": {},
   "outputs": [
    {
     "data": {
      "application/vnd.jupyter.widget-view+json": {
       "model_id": "45e093d3f56f4a20a09d683a3171bd73",
       "version_major": 2,
       "version_minor": 0
      },
      "text/plain": [
       "VBox(children=(SelectMultiple(options=('Выбрать все', 'Российская Федерация', 'Центральный федеральный округ',…"
      ]
     },
     "metadata": {},
     "output_type": "display_data"
    },
    {
     "data": {
      "application/vnd.jupyter.widget-view+json": {
       "model_id": "20f24ecbfc014c84b874d59ff1ee25f8",
       "version_major": 2,
       "version_minor": 0
      },
      "text/plain": [
       "VBox(children=(SelectMultiple(options=('Выбрать все', '1998', '1999', '2000', '2001', '2002', '2003', '2004', …"
      ]
     },
     "metadata": {},
     "output_type": "display_data"
    },
    {
     "data": {
      "application/vnd.jupyter.widget-view+json": {
       "model_id": "407e9e81543d48939a02c97c2a45bd2a",
       "version_major": 2,
       "version_minor": 0
      },
      "text/plain": [
       "VBox(children=(SelectMultiple(options=('Выбрать все', 'на 1 января', 'на 1 февраля', 'на 1 марта', 'на 1 апрел…"
      ]
     },
     "metadata": {},
     "output_type": "display_data"
    },
    {
     "data": {
      "application/vnd.jupyter.widget-view+json": {
       "model_id": "1c9014cd73f64ce28850a4164dcf0aec",
       "version_major": 2,
       "version_minor": 0
      },
      "text/plain": [
       "VBox(children=(SelectMultiple(options=('Выбрать все', 'Средний размер назначенных пенсий по видам пенсионного …"
      ]
     },
     "metadata": {},
     "output_type": "display_data"
    },
    {
     "data": {
      "application/vnd.jupyter.widget-view+json": {
       "model_id": "f4efff7723984d8580a07085af5c1ab0",
       "version_major": 2,
       "version_minor": 0
      },
      "text/plain": [
       "VBox(children=(SelectMultiple(options=('Выбрать все', 'Всего', 'по старости (возрасту)', 'по инвалидности', 'з…"
      ]
     },
     "metadata": {},
     "output_type": "display_data"
    }
   ],
   "source": [
    "#запускаем цикл, который позволит выбирать по каждому из показателей\n",
    "\n",
    "for i in range(find_all_filters(browser)):\n",
    "    sleep(2)\n",
    "    filters = browser.find_elements_by_class_name(\"k-filter\")\n",
    "    sleep(1)\n",
    "    browser.execute_script(\"arguments[0].click();\", filters[i])\n",
    "    sleep(1)\n",
    "    browser.execute_script(\"arguments[0].click();\", browser.find_element_by_xpath(\"//*[contains(text(), 'Очистить')]\"))\n",
    "    sleep(1)\n",
    "    \n",
    "    item_list = browser.find_element_by_class_name(\"k-other-filters\")\n",
    "    \n",
    "    query_input = widgets.SelectMultiple(\n",
    "        options=('Выбрать все\\n' + item_list.text).split('\\n'),\n",
    "        rows=10,\n",
    "        disabled=False)\n",
    "\n",
    "    button = widgets.Button(description=\"Submit\", disabled=True)\n",
    "\n",
    "    query_input.observe(input_observe, 'value')\n",
    "    box = widgets.VBox(children=[query_input, button])\n",
    "\n",
    "    display(box)\n",
    "\n",
    "    %block button\n",
    "\n",
    "    for el in query_input.value:\n",
    "        element = browser.find_elements_by_xpath(\"//*[contains(text(), '\" + el+\"')]\")\n",
    "\n",
    "        browser.execute_script(\"arguments[0].click();\", element[-1])\n",
    "        sleep(0.5)\n",
    "    browser.execute_script(\"arguments[0].click();\", browser.find_element_by_xpath(\"//*[contains(text(), 'Фильтровать')]\"))\n",
    "    sleep(1)"
   ]
  },
  {
   "cell_type": "code",
   "execution_count": 28,
   "metadata": {},
   "outputs": [],
   "source": [
    "#  скачиваем отобранные данные\n",
    "\n",
    "download_data(browser)"
   ]
  },
  {
   "cell_type": "code",
   "execution_count": 331,
   "metadata": {},
   "outputs": [],
   "source": [
    "df.to_csv('final.csv')"
   ]
  },
  {
   "cell_type": "code",
   "execution_count": 330,
   "metadata": {},
   "outputs": [
    {
     "data": {
      "text/plain": [
       "(2352, 27)"
      ]
     },
     "execution_count": 330,
     "metadata": {},
     "output_type": "execute_result"
    }
   ],
   "source": [
    "df.shape"
   ]
  },
  {
   "cell_type": "code",
   "execution_count": 377,
   "metadata": {},
   "outputs": [],
   "source": [
    "df.to_csv('final.csv')"
   ]
  }
 ],
 "metadata": {
  "kernelspec": {
   "display_name": "Python 3",
   "language": "python",
   "name": "python3"
  },
  "language_info": {
   "codemirror_mode": {
    "name": "ipython",
    "version": 3
   },
   "file_extension": ".py",
   "mimetype": "text/x-python",
   "name": "python",
   "nbconvert_exporter": "python",
   "pygments_lexer": "ipython3",
   "version": "3.6.5"
  }
 },
 "nbformat": 4,
 "nbformat_minor": 2
}
